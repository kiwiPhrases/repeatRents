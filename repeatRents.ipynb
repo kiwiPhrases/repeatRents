{
 "cells": [
  {
   "cell_type": "code",
   "execution_count": 1,
   "metadata": {},
   "outputs": [],
   "source": [
    "import pandas as pd\n",
    "import numpy as np\n",
    "import re, os\n",
    "\n",
    "import seaborn as sns\n",
    "import matplotlib.pyplot as plt\n",
    "import matplotlib\n",
    "%matplotlib inline\n",
    "jet = plt.get_cmap('jet')\n",
    "\n",
    "\n",
    "import statsmodels.api as sm\n",
    "import statsmodels.formula.api as smf\n",
    "from statsmodels.sandbox.regression.predstd import wls_prediction_std\n",
    "from statsmodels.regression.linear_model import WLS\n",
    "from statsmodels.stats.weightstats import ttest_ind\n",
    "from statsmodels.discrete.discrete_model import Probit\n",
    "from statsmodels.discrete.discrete_model import Logit\n",
    "from statsmodels.regression.quantile_regression import QuantReg\n",
    "from scipy.stats import norm\n",
    "from scipy.stats import lognorm\n",
    "from scipy.stats import ks_2samp\n",
    "from sklearn.neighbors import KernelDensity\n",
    "from sklearn.model_selection import GridSearchCV\n",
    "from sklearn.model_selection import LeaveOneOut\n",
    "from scipy.stats import gaussian_kde\n",
    "\n",
    "from statsmodels.discrete.discrete_model import Poisson\n",
    "from patsy import dmatrix\n",
    "from scipy import integrate\n",
    "\n",
    "import itertools\n",
    "data_path = \"C:/Users/SpiffyApple/Documents/USC/OwnResearch/proposal\""
   ]
  },
  {
   "cell_type": "code",
   "execution_count": 2,
   "metadata": {},
   "outputs": [],
   "source": [
    "#convenience function\n",
    "def toLatex(tmpDF, file_name, regOut = False):\n",
    "    if regOut == False:\n",
    "        with open(\"/\".join([data_path,file_name]), 'w+') as f:\n",
    "            f.write(tmpDF.to_latex())\n",
    "    if regOut:\n",
    "        with open(\"/\".join([data_path,file_name]), 'w+') as f:\n",
    "            f.write(tmpDF.as_latex())\n",
    "    return(tmpDF)\n",
    "\n",
    "def toExcel(tmpDF, file_name):\n",
    "    tmpDF.to_excel(\"/\".join([data_path,file_name]))\n",
    "    return(tmpDF)"
   ]
  },
  {
   "cell_type": "code",
   "execution_count": 118,
   "metadata": {},
   "outputs": [],
   "source": [
    "def runRegression(y,x,data):\n",
    "    form = '{0} ~ {1}'.format(y,x)\n",
    "    mod = smf.ols(formula=form, data=data)\n",
    "    res = mod.fit()#cov_type='HC0')\n",
    "    return(res)\n",
    "\n",
    "\n",
    "def runQuantRegression(y,x,data,quant=.5):\n",
    "    form = '{0} ~ {1}'.format(y,x)\n",
    "    mod = smf.quantreg(formula=form, data=data)\n",
    "    res = mod.fit(quant=.5)#cov_type='HC0')\n",
    "    return(res)\n",
    "\n",
    "def processParams(params, cont):\n",
    "    if type(params) is list:\n",
    "        paramsDict = {}\n",
    "        for param in params:\n",
    "            paramsDict[param] = cont.params[param]\n",
    "        paramsDict['nobs'] = cont.nobs\n",
    "        paramsDict['R^2 adj'] = cont.rsquared_adj\n",
    "        \n",
    "        return(paramsDict)\n",
    "    \n",
    "    if type(params) is str:\n",
    "        return({'delta':cont.params[params], 'nObs':cont.nobs,'R^2 adj':cont.rsquared_adj})\n",
    "        \n",
    "def extractResults(varsIntrst, fitDict, condNum=True, params = None):\n",
    "    outDict = {}    \n",
    "    paramsDict = {}\n",
    "    outDictparams = {}\n",
    "    for key in fitDict.keys():\n",
    "        tmpDict = {}\n",
    "        cont = fitDict[key]\n",
    "\n",
    "        for var in varsIntrst:\n",
    "            try:\n",
    "                tmpDict[var] = \"%.03f (%.03f)\" %(cont.params[var], cont.pvalues[var]) \n",
    "            except KeyError as e:\n",
    "                tmpDict[var] = ''\n",
    "                        \n",
    "        tmpDict['nObs'] = cont.nobs\n",
    "        tmpDict['R^2 adj'] = cont.rsquared_adj.round(2)\n",
    "        \n",
    "        outDict[key] = tmpDict\n",
    "        \n",
    "        if condNum==True:\n",
    "            tmpDict['condNum'] = cont.condition_number.round(0)\n",
    "\n",
    "        if params:\n",
    "            outDictparams[key] = processParams(params,cont)    \n",
    "\n",
    "    if params:\n",
    "        return([pd.DataFrame(outDict),pd.DataFrame(outDictparams).transpose()])\n",
    "    else:\n",
    "        return(pd.DataFrame(outDict))"
   ]
  },
  {
   "cell_type": "markdown",
   "metadata": {},
   "source": [
    "# Load Case-Shiller data\n",
    "\n",
    "Data come from St. Louis Federal [Reserve](https://fred.stlouisfed.org/series/CSUSHPISA)"
   ]
  },
  {
   "cell_type": "code",
   "execution_count": 4,
   "metadata": {},
   "outputs": [],
   "source": [
    "cs = pd.read_csv(\"/\".join([data_path, 'CSUSHPINSA1987-2014.csv']))"
   ]
  },
  {
   "cell_type": "code",
   "execution_count": 5,
   "metadata": {},
   "outputs": [],
   "source": [
    "# format years\n",
    "cs.loc[:,'date'] = pd.to_datetime(cs.DATE)\n",
    "cs.loc[:,'year'] = cs.date.dt.year"
   ]
  },
  {
   "cell_type": "code",
   "execution_count": 6,
   "metadata": {},
   "outputs": [],
   "source": [
    "csYear = cs.groupby('year').CSUSHPINSA.mean()"
   ]
  },
  {
   "cell_type": "markdown",
   "metadata": {},
   "source": [
    "# Load xwalk between CBSA and SMSA Codes\n",
    "\n",
    "Data come from [NBER](https://data.nber.org/data/cbsa-msa-fips-ssa-county-crosswalk.html)"
   ]
  },
  {
   "cell_type": "code",
   "execution_count": 7,
   "metadata": {},
   "outputs": [
    {
     "data": {
      "text/plain": [
       "County Name      object\n",
       "ST               object\n",
       "SSACD             int64\n",
       "FIPSCD            int64\n",
       "Old MSA          object\n",
       "OldMSA Name      object\n",
       "New MSA         float64\n",
       "New MSA Name     object\n",
       "dtype: object"
      ]
     },
     "execution_count": 7,
     "metadata": {},
     "output_type": "execute_result"
    }
   ],
   "source": [
    "xw = pd.read_excel(\"/\".join([data_path, 'FR05_CBSA_MSA_XWALK_pub.xls']))\n",
    "\n",
    "#clean up the columns\n",
    "xw.columns = xw.columns.str.replace(\" - [\\w\\s\\(\\)\\d]+\",'').str.strip()\n",
    "\n",
    "xw.dtypes"
   ]
  },
  {
   "cell_type": "markdown",
   "metadata": {},
   "source": [
    "# Load HPI data\n",
    "Data come from [FHFA](https://www.fhfa.gov/DataTools/Downloads/Pages/House-Price-Index.aspx)"
   ]
  },
  {
   "cell_type": "code",
   "execution_count": 8,
   "metadata": {},
   "outputs": [],
   "source": [
    "# load data\n",
    "hpi_state = pd.read_csv(\"/\".join([data_path, 'HPI_at_state.txt']),sep='\\t',header=None)\n",
    "hpi_metro = pd.read_csv(\"/\".join([data_path, 'HPI_at_metro.txt']),sep='\\t',header=None)\n",
    "\n",
    "\n",
    "# set columns\n",
    "hpi_state.columns = ['state','year','quarter','hpi']\n",
    "hpi_metro.columns = ['metro','code','year','quarter','hpi','q2q_change']\n",
    "\n",
    "hpi_state = hpi_state.loc[hpi_state.hpi != '.']\n",
    "hpi_state.loc[:,'hpi'] = hpi_state.hpi.astype(np.float)\n",
    "hpi_metro.loc[:,'hpi'] = hpi_metro.hpi.replace(\"-\",np.nan).astype('float')"
   ]
  },
  {
   "cell_type": "code",
   "execution_count": 9,
   "metadata": {},
   "outputs": [],
   "source": [
    "# merge x-walk with HPI data\n",
    "hpi_metro = hpi_metro.merge(xw,left_on='code',right_on = 'New MSA',how='left')"
   ]
  },
  {
   "cell_type": "code",
   "execution_count": 10,
   "metadata": {},
   "outputs": [],
   "source": [
    "# simplify because we don't need quarterly data.\n",
    "# take avg at state and year levels\n",
    "hpi_state = hpi_state.groupby(['state','year']).hpi.mean()\n",
    "hpi_state.name = 'hpi'\n",
    "\n",
    "# take 2nd quarter from hpi_metro (could avg but not feeling it)\n",
    "#hpi_metro = hpi_metro.loc[hpi_metro.quarter==2]\n",
    "\n",
    "# alternatively...\n",
    "hpi_metro.loc[:,'avg_hpi'] = hpi_metro.groupby(['metro','year']).hpi.transform('mean')\n",
    "hpi_metro = hpi_metro.loc[hpi_metro.quarter==1]\n",
    "hpi_metro.drop('quarter',axis=1,inplace=True)"
   ]
  },
  {
   "cell_type": "markdown",
   "metadata": {},
   "source": [
    "# Load CPI Data\n",
    "\n",
    "Data come from [BLS](https://www.bls.gov/cpi/data.htm)\n",
    "Some [info](https://download.bls.gov/pub/time.series/cw/cw.txt) on the periods (M13)\n",
    "\n",
    "Info on the types of [series](https://download.bls.gov/pub/time.series/cw/cw.series) in the data. For example, CWUR0000SAH is the U.S. avg housing for urban wage and clerical workers (no seasonally adjusted) while ...SAH1 is for shelter, ...SAH2 is for fuel, AH3 is for furniture, etc. Similarly, CWUR0100SA0L2 is CPI for all items less shelter (which is what I want to use) while CWUR0000SA0 is all item US avg. (which is what I use) - neither are seasonally adjusted\n"
   ]
  },
  {
   "cell_type": "code",
   "execution_count": 11,
   "metadata": {},
   "outputs": [],
   "source": [
    "cpi_housing = pd.read_csv('/'.join([data_path, 'cw.data.12.USHousing.txt']),sep='\\t')\n",
    "cpi_all = pd.read_csv(\"/\".join([data_path, 'cw.data.1.AllItems.txt']),sep='\\t')\n",
    "\n",
    "cpi_all.columns = cpi_all.columns.str.strip()\n",
    "cpi_housing.columns = cpi_housing.columns.str.strip()"
   ]
  },
  {
   "cell_type": "code",
   "execution_count": 12,
   "metadata": {},
   "outputs": [
    {
     "name": "stdout",
     "output_type": "stream",
     "text": [
      "are footnotes empty?: True\n"
     ]
    }
   ],
   "source": [
    "# footnotes seems empty:\n",
    "print(\"are footnotes empty?:\",cpi_all.footnote_codes.isnull().all())\n",
    "cpi_all.drop('footnote_codes',axis=1,inplace=True)\n",
    "cpi_housing.drop('footnote_codes',axis=1,inplace=True)"
   ]
  },
  {
   "cell_type": "code",
   "execution_count": 13,
   "metadata": {},
   "outputs": [
    {
     "data": {
      "text/plain": [
       "True"
      ]
     },
     "execution_count": 13,
     "metadata": {},
     "output_type": "execute_result"
    }
   ],
   "source": [
    "cpi_all.series_id.str.contains('CWUR0000SA0').any()"
   ]
  },
  {
   "cell_type": "code",
   "execution_count": 14,
   "metadata": {},
   "outputs": [],
   "source": [
    "# keep annual average (M13)\n",
    "cpi_all = cpi_all.loc[cpi_all.period == 'M13']\n",
    "cpi_housing = cpi_housing.loc[cpi_housing.period == 'M13']\n",
    "\n",
    "cpi_all.drop('period',axis=1,inplace=True)\n",
    "cpi_housing.drop('period',axis=1,inplace=True)"
   ]
  },
  {
   "cell_type": "code",
   "execution_count": 15,
   "metadata": {},
   "outputs": [],
   "source": [
    "# select overall housing CPI and CPI for all items [later less shelter]\n",
    "cpi_housing = cpi_housing.loc[cpi_housing.series_id.str.strip() == \"CWUR0000SAH\"].drop('series_id',axis=1)\n",
    "cpi_all = cpi_all.loc[cpi_all.series_id.str.strip()=='CWUR0000SA0'].drop('series_id',axis=1)"
   ]
  },
  {
   "cell_type": "code",
   "execution_count": 16,
   "metadata": {},
   "outputs": [],
   "source": [
    "# merge the two series after renaming columns\n",
    "cpi_all.rename(columns = {'value':'cpi_all'},inplace=True)\n",
    "cpi_housing.rename(columns = {'value':'cpi_housing'},inplace=True)\n",
    "cpi = cpi_all.merge(cpi_housing,on='year')"
   ]
  },
  {
   "cell_type": "markdown",
   "metadata": {},
   "source": [
    "# Load Rosenthal Rent data\n",
    "\n",
    "Below, I use the 1985-2011 data from the Rosenthal's 2014 AER paper, *Are Private Markets and Filtering a Viable Source of Low-Income Housing? Estimates from a \"Repeat Income\" Model.\"*\n",
    "\n",
    "I get the data from the [replication data](https://www.openicpsr.org/openicpsr/project/112738/version/V1/view) on the AER website. \n",
    "\n",
    "I use these data purely out of convenience. To get 1985-1997 data, one has to ask for a disc from the AHS and the further processing is a headache to I lean on Rosenthal's contribution. According to the [AHS](https://www2.census.gov/programs-surveys/ahs/documentation/2015-2017_Sample_Case_History_Readme.pdf), they survey the same units every year unless the units disappear so one can construct a longitudinal data set from the units and biannually observe their rents. Technically, Rosenthal's panel could be extended to 2013 because the AHS panel runs from 1985-2013 (while the new one runs 2015+) but I don't add the 2013 survey here. To get the data, I had to run the STATA programs included in the folder. The programs from which I get the data mostly merge the raw datasets (I say raw, they are all actually in STATA .dta format) and put them into a single renter sample. Rosenthal does a few things with the data for formatting and munging purposes (ie he makes an *annual* panel for every unit which unnecessarily bloats the set) because of STATA's programming limitations but I either undo those additions or ignore them. "
   ]
  },
  {
   "cell_type": "code",
   "execution_count": 17,
   "metadata": {},
   "outputs": [],
   "source": [
    "# find relevant file\n",
    "f = [s for s in os.listdir(\"/\".join([data_path, 'postfolder','data','temp'])) if '3c_2_rent' in s.lower()]"
   ]
  },
  {
   "cell_type": "code",
   "execution_count": 18,
   "metadata": {},
   "outputs": [],
   "source": [
    "# load data\n",
    "filename = \"/\".join([data_path, 'postfolder','data','temp',f[0]])\n",
    "df = pd.read_stata(filename)"
   ]
  },
  {
   "cell_type": "code",
   "execution_count": 19,
   "metadata": {},
   "outputs": [],
   "source": [
    "# drop units for which no rents are ever observed\n",
    "cntrls = df.groupby('control').rent.apply(lambda x: x.notnull().sum())\n",
    "df = df.loc[~df.control.isin(cntrls[cntrls==0].index)]"
   ]
  },
  {
   "cell_type": "code",
   "execution_count": 20,
   "metadata": {},
   "outputs": [],
   "source": [
    "# drop data that are all NA\n",
    "df.drop(df.columns[df.isnull().all()],axis=1,inplace=True)"
   ]
  },
  {
   "cell_type": "code",
   "execution_count": 21,
   "metadata": {},
   "outputs": [],
   "source": [
    "# drop units for which only 2 are rents are observed\n",
    "cntrls = df.groupby('control').rent.apply(lambda x: x.notnull().sum())\n",
    "df = df.loc[~df.control.isin(cntrls[cntrls<2].index)]"
   ]
  },
  {
   "cell_type": "code",
   "execution_count": 22,
   "metadata": {},
   "outputs": [],
   "source": [
    "df.drop(df[df.rent.isnull()].index,inplace=True)"
   ]
  },
  {
   "cell_type": "markdown",
   "metadata": {},
   "source": [
    "# Real rents"
   ]
  },
  {
   "cell_type": "code",
   "execution_count": 23,
   "metadata": {},
   "outputs": [],
   "source": [
    "# merge with CPI\n",
    "df = df.merge(cpi,on='year',how='left')"
   ]
  },
  {
   "cell_type": "code",
   "execution_count": 24,
   "metadata": {},
   "outputs": [],
   "source": [
    "# adjust prices\n",
    "df.loc[:,'rrent'] = df.rent/(df.cpi_all/100)\n",
    "df.loc[:,'rrent_updated'] = df.rent_updated/(df.cpi_all/100)"
   ]
  },
  {
   "cell_type": "markdown",
   "metadata": {},
   "source": [
    "# Create variables"
   ]
  },
  {
   "cell_type": "code",
   "execution_count": 25,
   "metadata": {},
   "outputs": [
    {
     "data": {
      "text/plain": [
       "Index(['smsa', 'ccmsa', 'msaurb', 'msarur', 'nmsaurb', 'nmsarur'], dtype='object')"
      ]
     },
     "execution_count": 25,
     "metadata": {},
     "output_type": "execute_result"
    }
   ],
   "source": [
    "# is there an MSA variable?\n",
    "df.columns[df.columns.str.lower().str.contains(\"msa\")]"
   ]
  },
  {
   "cell_type": "code",
   "execution_count": 26,
   "metadata": {},
   "outputs": [],
   "source": [
    "# insert updated rents into rent field\n",
    "df.loc[df.rent_updated>df.rent,'rent'] = df.loc[df.rent_updated>df.rent,'rent_updated']\n",
    "df.loc[df.rrent_updated>df.rrent,'rrent'] = df.loc[df.rent_updated>df.rent,'rrent_updated']"
   ]
  },
  {
   "cell_type": "code",
   "execution_count": 48,
   "metadata": {},
   "outputs": [
    {
     "data": {
      "text/html": [
       "<div>\n",
       "<style scoped>\n",
       "    .dataframe tbody tr th:only-of-type {\n",
       "        vertical-align: middle;\n",
       "    }\n",
       "\n",
       "    .dataframe tbody tr th {\n",
       "        vertical-align: top;\n",
       "    }\n",
       "\n",
       "    .dataframe thead th {\n",
       "        text-align: right;\n",
       "    }\n",
       "</style>\n",
       "<table border=\"1\" class=\"dataframe\">\n",
       "  <thead>\n",
       "    <tr style=\"text-align: right;\">\n",
       "      <th></th>\n",
       "      <th>control</th>\n",
       "      <th>year</th>\n",
       "      <th>rent</th>\n",
       "      <th>rent_tminus</th>\n",
       "      <th>rentChange</th>\n",
       "      <th>rrent</th>\n",
       "      <th>rrentChange</th>\n",
       "    </tr>\n",
       "  </thead>\n",
       "  <tbody>\n",
       "    <tr>\n",
       "      <th>0</th>\n",
       "      <td>1.000071e+11</td>\n",
       "      <td>1985</td>\n",
       "      <td>310.0</td>\n",
       "      <td>NaN</td>\n",
       "      <td>NaN</td>\n",
       "      <td>289.990645</td>\n",
       "      <td>NaN</td>\n",
       "    </tr>\n",
       "    <tr>\n",
       "      <th>1</th>\n",
       "      <td>1.000071e+11</td>\n",
       "      <td>1987</td>\n",
       "      <td>295.0</td>\n",
       "      <td>310.0</td>\n",
       "      <td>-0.049597</td>\n",
       "      <td>262.222222</td>\n",
       "      <td>-0.100656</td>\n",
       "    </tr>\n",
       "    <tr>\n",
       "      <th>2</th>\n",
       "      <td>1.000071e+11</td>\n",
       "      <td>1989</td>\n",
       "      <td>335.0</td>\n",
       "      <td>295.0</td>\n",
       "      <td>0.127155</td>\n",
       "      <td>273.246330</td>\n",
       "      <td>0.041181</td>\n",
       "    </tr>\n",
       "    <tr>\n",
       "      <th>3</th>\n",
       "      <td>1.000071e+11</td>\n",
       "      <td>1991</td>\n",
       "      <td>375.0</td>\n",
       "      <td>335.0</td>\n",
       "      <td>0.112795</td>\n",
       "      <td>279.225614</td>\n",
       "      <td>0.021646</td>\n",
       "    </tr>\n",
       "    <tr>\n",
       "      <th>4</th>\n",
       "      <td>1.000071e+11</td>\n",
       "      <td>1993</td>\n",
       "      <td>395.0</td>\n",
       "      <td>375.0</td>\n",
       "      <td>0.051960</td>\n",
       "      <td>277.973258</td>\n",
       "      <td>-0.004495</td>\n",
       "    </tr>\n",
       "    <tr>\n",
       "      <th>5</th>\n",
       "      <td>1.000071e+11</td>\n",
       "      <td>1995</td>\n",
       "      <td>425.0</td>\n",
       "      <td>395.0</td>\n",
       "      <td>0.073203</td>\n",
       "      <td>283.711615</td>\n",
       "      <td>0.020433</td>\n",
       "    </tr>\n",
       "    <tr>\n",
       "      <th>6</th>\n",
       "      <td>1.000071e+11</td>\n",
       "      <td>1997</td>\n",
       "      <td>420.0</td>\n",
       "      <td>425.0</td>\n",
       "      <td>-0.011834</td>\n",
       "      <td>266.497462</td>\n",
       "      <td>-0.062594</td>\n",
       "    </tr>\n",
       "    <tr>\n",
       "      <th>7</th>\n",
       "      <td>1.000071e+11</td>\n",
       "      <td>1999</td>\n",
       "      <td>440.0</td>\n",
       "      <td>420.0</td>\n",
       "      <td>0.046520</td>\n",
       "      <td>269.607843</td>\n",
       "      <td>0.011604</td>\n",
       "    </tr>\n",
       "    <tr>\n",
       "      <th>8</th>\n",
       "      <td>1.000071e+11</td>\n",
       "      <td>2001</td>\n",
       "      <td>300.0</td>\n",
       "      <td>440.0</td>\n",
       "      <td>-0.382992</td>\n",
       "      <td>172.910663</td>\n",
       "      <td>-0.444193</td>\n",
       "    </tr>\n",
       "    <tr>\n",
       "      <th>9</th>\n",
       "      <td>1.000071e+11</td>\n",
       "      <td>2005</td>\n",
       "      <td>425.0</td>\n",
       "      <td>300.0</td>\n",
       "      <td>0.348307</td>\n",
       "      <td>222.513089</td>\n",
       "      <td>0.252211</td>\n",
       "    </tr>\n",
       "  </tbody>\n",
       "</table>\n",
       "</div>"
      ],
      "text/plain": [
       "        control  year   rent  rent_tminus  rentChange       rrent  rrentChange\n",
       "0  1.000071e+11  1985  310.0          NaN         NaN  289.990645          NaN\n",
       "1  1.000071e+11  1987  295.0        310.0   -0.049597  262.222222    -0.100656\n",
       "2  1.000071e+11  1989  335.0        295.0    0.127155  273.246330     0.041181\n",
       "3  1.000071e+11  1991  375.0        335.0    0.112795  279.225614     0.021646\n",
       "4  1.000071e+11  1993  395.0        375.0    0.051960  277.973258    -0.004495\n",
       "5  1.000071e+11  1995  425.0        395.0    0.073203  283.711615     0.020433\n",
       "6  1.000071e+11  1997  420.0        425.0   -0.011834  266.497462    -0.062594\n",
       "7  1.000071e+11  1999  440.0        420.0    0.046520  269.607843     0.011604\n",
       "8  1.000071e+11  2001  300.0        440.0   -0.382992  172.910663    -0.444193\n",
       "9  1.000071e+11  2005  425.0        300.0    0.348307  222.513089     0.252211"
      ]
     },
     "execution_count": 48,
     "metadata": {},
     "output_type": "execute_result"
    }
   ],
   "source": [
    "# create variable change\n",
    "df.loc[:,'rent_tminus'] = df.groupby('control').rent.shift(1) #nominal\n",
    "df.loc[:,'rrent_tminus'] = df.groupby('control').rrent.shift(1) #real\n",
    "\n",
    "df.loc[:,'rentChange'] = np.log(df.rent/df.rent_tminus) #nominal\n",
    "df.loc[:,'rrentChange'] = np.log(df.rrent/df.rrent_tminus) #real\n",
    "\n",
    "df.loc[:,['control','year','rent','rent_tminus','rentChange','rrent','rrentChange','firstRent']].head(n=10)"
   ]
  },
  {
   "cell_type": "code",
   "execution_count": 28,
   "metadata": {},
   "outputs": [],
   "source": [
    "# drop observations with nominal changes of over 100%\n",
    "df.drop(df.loc[(np.abs(df.rentChange)>1),:].index,inplace=True)"
   ]
  },
  {
   "cell_type": "code",
   "execution_count": 29,
   "metadata": {},
   "outputs": [],
   "source": [
    "df.smsa.replace(np.nan,9999,inplace=True)"
   ]
  },
  {
   "cell_type": "code",
   "execution_count": 30,
   "metadata": {},
   "outputs": [],
   "source": [
    "# compute real rent quantiles for each year\n",
    "smsaRentQuants = df.groupby(['smsa','year']).rrent.quantile([.25,.5,.75]).unstack(level=2)\n",
    "smsaRentQuants.columns = ['quant'+str(i)[2:] for i in smsaRentQuants.columns]"
   ]
  },
  {
   "cell_type": "code",
   "execution_count": 31,
   "metadata": {},
   "outputs": [],
   "source": [
    "df = df.merge(smsaRentQuants,on=['smsa','year'],how='left')"
   ]
  },
  {
   "cell_type": "code",
   "execution_count": 32,
   "metadata": {},
   "outputs": [],
   "source": [
    "# first year a unit is observed in shifted forward by 1 to conform with rentChange\n",
    "df.loc[:,'firstYear'] = (df.groupby('control').year.transform('min') == df.year)#.shift(1)"
   ]
  },
  {
   "cell_type": "code",
   "execution_count": 33,
   "metadata": {},
   "outputs": [],
   "source": [
    "# get units that are in each quartile in the first year they're observed\n",
    "df.loc[:,'bottomQuart'] = (df.firstYear & (df.rrent<=df.quant25))\n",
    "#df.loc[:,'middleHalf'] = (df.firstYear & (df.rent>df.quant25) & (df.rent<=df.quant75))\n",
    "df.loc[:,'upperQuart'] = (df.firstYear & (df.rrent>df.quant75))\n",
    "df.loc[:,'bottomHalf'] =  (df.firstYear & (df.rrent<=df.quant5))\n",
    "df.loc[:,'topHalf'] = (df.firstYear & (df.rrent>= df.quant5))"
   ]
  },
  {
   "cell_type": "code",
   "execution_count": 34,
   "metadata": {},
   "outputs": [],
   "source": [
    "df.loc[:,['topHalf']] = df.groupby('control').topHalf.transform(lambda x: x.any()).astype(int)\n",
    "df.loc[:,['upperQuart']] = df.groupby('control').upperQuart.transform(lambda x: x.any()).astype(int)\n",
    "df.loc[:,['bottomQuart']] = df.groupby('control').bottomQuart.transform(lambda x: x.any()).astype(int)\n"
   ]
  },
  {
   "cell_type": "code",
   "execution_count": 35,
   "metadata": {},
   "outputs": [
    {
     "name": "stdout",
     "output_type": "stream",
     "text": [
      "Share of households whose unit started in upper half: 0.70\n"
     ]
    }
   ],
   "source": [
    "print(\"Share of households whose unit started in upper half: %.2f\" %(df.topHalf.sum()/df.rrentChange.notnull().sum()))"
   ]
  },
  {
   "cell_type": "code",
   "execution_count": 83,
   "metadata": {},
   "outputs": [],
   "source": [
    "# compute mean smsa-level renter incomes\n",
    "p1=df.groupby(['smsa','year']).zinc.mean().round(0)\n",
    "p2=df.groupby(['smsa','year']).zinc.median().round(0)\n",
    "p3=df.groupby(['smsa','year']).zinc.quantile(.75).round(0)\n",
    "incomes = pd.concat([p1,p2,p3],axis=1,keys=['meanIncome','medianIncome','topIncome'])"
   ]
  },
  {
   "cell_type": "code",
   "execution_count": 36,
   "metadata": {
    "scrolled": true
   },
   "outputs": [
    {
     "name": "stdout",
     "output_type": "stream",
     "text": [
      "before: (178102, 192)\n",
      "after (178102, 193)\n"
     ]
    }
   ],
   "source": [
    "# merge case-shiller data\n",
    "print(\"before:\",df.shape)\n",
    "df = df.merge(csYear,on=['year'],how='left')\n",
    "print('after',df.shape)\n",
    "\n",
    "# rename Bloomberg-ish sticker to something useful\n",
    "df.rename(columns = {'CSUSHPINSA':'csi'},inplace=True)"
   ]
  },
  {
   "cell_type": "markdown",
   "metadata": {},
   "source": [
    "# Load Rosenthal Ownership data\n",
    "\n",
    "I do this only to compute average annual home prices for each SMSA so I can then compute home price to renter income ratios"
   ]
  },
  {
   "cell_type": "code",
   "execution_count": 49,
   "metadata": {},
   "outputs": [],
   "source": [
    "# find relevant file\n",
    "f = [s for s in os.listdir(\"/\".join([data_path, 'postfolder','data','temp'])) if '3c_2_own' in s.lower()]"
   ]
  },
  {
   "cell_type": "code",
   "execution_count": 50,
   "metadata": {},
   "outputs": [],
   "source": [
    "# load data\n",
    "filename = \"/\".join([data_path, 'postfolder','data','temp',f[0]])\n",
    "own = pd.read_stata(filename)"
   ]
  },
  {
   "cell_type": "code",
   "execution_count": 55,
   "metadata": {},
   "outputs": [],
   "source": [
    "# drop data that are all NA\n",
    "own.drop(own.columns[own.isnull().all()],axis=1,inplace=True)"
   ]
  },
  {
   "cell_type": "code",
   "execution_count": 68,
   "metadata": {},
   "outputs": [],
   "source": [
    "# compute how long the household has been at the house\n",
    "own.loc[:,'hereForYrs'] = own.year - own.original_moved"
   ]
  },
  {
   "cell_type": "code",
   "execution_count": 61,
   "metadata": {},
   "outputs": [],
   "source": [
    "# drop units for which no rents are ever observed\n",
    "cntrls = own.groupby('control').price.apply(lambda x: x.notnull().sum())\n",
    "own = own.loc[~own.control.isin(cntrls[cntrls==0].index)]"
   ]
  },
  {
   "cell_type": "code",
   "execution_count": 62,
   "metadata": {},
   "outputs": [],
   "source": [
    "# drop rows for which there are no price observations\n",
    "own.drop(own[own.price.isnull()].index,inplace=True)"
   ]
  },
  {
   "cell_type": "code",
   "execution_count": 70,
   "metadata": {},
   "outputs": [],
   "source": [
    "# replace price with value if value is larger\n",
    "own.loc[own.price<own.value, 'price'] = own.loc[own.price<own.value, 'value']"
   ]
  },
  {
   "cell_type": "code",
   "execution_count": 77,
   "metadata": {},
   "outputs": [],
   "source": [
    "p1 = own.groupby(['smsa','year']).price.mean() #full sample\n",
    "p2 = own.loc[own.mktprice==1].groupby(['smsa','year']).price.mean() #only market price (leaves holes)\n",
    "p3 = own.loc[own.hereForYrs<10].groupby(['smsa','year']).price.mean() #only recent movers\n",
    "prices = pd.concat([p1,p2,p3],axis=1,keys=['all','mrkprice','rcntMover'])"
   ]
  },
  {
   "cell_type": "markdown",
   "metadata": {},
   "source": [
    "# Compute PTIs"
   ]
  },
  {
   "cell_type": "code",
   "execution_count": 88,
   "metadata": {},
   "outputs": [],
   "source": [
    "pti = pd.concat([prices,incomes],axis=1)"
   ]
  },
  {
   "cell_type": "code",
   "execution_count": 101,
   "metadata": {},
   "outputs": [],
   "source": [
    "pti.loc[:,'pti_mean'] = pti.rcntMover/pti.meanIncome\n",
    "pti.loc[:,'pti_top'] = pti.rcntMover/pti.topIncome\n",
    "pti.loc[:,'pti_all'] = pti.loc[:,'all']/pti.meanIncome"
   ]
  },
  {
   "cell_type": "code",
   "execution_count": 91,
   "metadata": {},
   "outputs": [
    {
     "data": {
      "text/html": [
       "<table class=\"simpletable\">\n",
       "<caption>OLS Regression Results</caption>\n",
       "<tr>\n",
       "  <th>Dep. Variable:</th>        <td>pti_mean</td>     <th>  R-squared:         </th> <td>   0.978</td> \n",
       "</tr>\n",
       "<tr>\n",
       "  <th>Model:</th>                   <td>OLS</td>       <th>  Adj. R-squared:    </th> <td>   0.978</td> \n",
       "</tr>\n",
       "<tr>\n",
       "  <th>Method:</th>             <td>Least Squares</td>  <th>  F-statistic:       </th> <td>8.892e+04</td>\n",
       "</tr>\n",
       "<tr>\n",
       "  <th>Date:</th>             <td>Fri, 03 Jan 2020</td> <th>  Prob (F-statistic):</th>  <td>  0.00</td>  \n",
       "</tr>\n",
       "<tr>\n",
       "  <th>Time:</th>                 <td>21:51:05</td>     <th>  Log-Likelihood:    </th> <td> -2836.8</td> \n",
       "</tr>\n",
       "<tr>\n",
       "  <th>No. Observations:</th>      <td>  2003</td>      <th>  AIC:               </th> <td>   5676.</td> \n",
       "</tr>\n",
       "<tr>\n",
       "  <th>Df Residuals:</th>          <td>  2002</td>      <th>  BIC:               </th> <td>   5681.</td> \n",
       "</tr>\n",
       "<tr>\n",
       "  <th>Df Model:</th>              <td>     1</td>      <th>                     </th>     <td> </td>    \n",
       "</tr>\n",
       "<tr>\n",
       "  <th>Covariance Type:</th>      <td>nonrobust</td>    <th>                     </th>     <td> </td>    \n",
       "</tr>\n",
       "</table>\n",
       "<table class=\"simpletable\">\n",
       "<tr>\n",
       "     <td></td>        <th>coef</th>     <th>std err</th>      <th>t</th>      <th>P>|t|</th>  <th>[0.025</th>    <th>0.975]</th>  \n",
       "</tr>\n",
       "<tr>\n",
       "  <th>pti_top</th> <td>    1.2855</td> <td>    0.004</td> <td>  298.191</td> <td> 0.000</td> <td>    1.277</td> <td>    1.294</td>\n",
       "</tr>\n",
       "</table>\n",
       "<table class=\"simpletable\">\n",
       "<tr>\n",
       "  <th>Omnibus:</th>       <td>1153.979</td> <th>  Durbin-Watson:     </th> <td>   1.749</td> \n",
       "</tr>\n",
       "<tr>\n",
       "  <th>Prob(Omnibus):</th>  <td> 0.000</td>  <th>  Jarque-Bera (JB):  </th> <td>60917.633</td>\n",
       "</tr>\n",
       "<tr>\n",
       "  <th>Skew:</th>           <td>-1.979</td>  <th>  Prob(JB):          </th> <td>    0.00</td> \n",
       "</tr>\n",
       "<tr>\n",
       "  <th>Kurtosis:</th>       <td>29.725</td>  <th>  Cond. No.          </th> <td>    1.00</td> \n",
       "</tr>\n",
       "</table><br/><br/>Warnings:<br/>[1] Standard Errors assume that the covariance matrix of the errors is correctly specified."
      ],
      "text/plain": [
       "<class 'statsmodels.iolib.summary.Summary'>\n",
       "\"\"\"\n",
       "                            OLS Regression Results                            \n",
       "==============================================================================\n",
       "Dep. Variable:               pti_mean   R-squared:                       0.978\n",
       "Model:                            OLS   Adj. R-squared:                  0.978\n",
       "Method:                 Least Squares   F-statistic:                 8.892e+04\n",
       "Date:                Fri, 03 Jan 2020   Prob (F-statistic):               0.00\n",
       "Time:                        21:51:05   Log-Likelihood:                -2836.8\n",
       "No. Observations:                2003   AIC:                             5676.\n",
       "Df Residuals:                    2002   BIC:                             5681.\n",
       "Df Model:                           1                                         \n",
       "Covariance Type:            nonrobust                                         \n",
       "==============================================================================\n",
       "                 coef    std err          t      P>|t|      [0.025      0.975]\n",
       "------------------------------------------------------------------------------\n",
       "pti_top        1.2855      0.004    298.191      0.000       1.277       1.294\n",
       "==============================================================================\n",
       "Omnibus:                     1153.979   Durbin-Watson:                   1.749\n",
       "Prob(Omnibus):                  0.000   Jarque-Bera (JB):            60917.633\n",
       "Skew:                          -1.979   Prob(JB):                         0.00\n",
       "Kurtosis:                      29.725   Cond. No.                         1.00\n",
       "==============================================================================\n",
       "\n",
       "Warnings:\n",
       "[1] Standard Errors assume that the covariance matrix of the errors is correctly specified.\n",
       "\"\"\""
      ]
     },
     "execution_count": 91,
     "metadata": {},
     "output_type": "execute_result"
    }
   ],
   "source": [
    "# look at the correlation between the two indixes\n",
    "runRegression('pti_mean','pti_top-1',pti).summary()"
   ]
  },
  {
   "cell_type": "code",
   "execution_count": 102,
   "metadata": {},
   "outputs": [],
   "source": [
    "# merge the PTIs do the actual dataset\n",
    "df = df.merge(pti.reset_index()[['smsa','year','pti_mean','pti_top','pti_all']],on=['smsa','year'],how='left')"
   ]
  },
  {
   "cell_type": "markdown",
   "metadata": {},
   "source": [
    "# Graphics"
   ]
  },
  {
   "cell_type": "code",
   "execution_count": 152,
   "metadata": {},
   "outputs": [],
   "source": [
    "df.loc[:,'tier'] = np.nan\n",
    "df.loc[(df.bottomQuart == 1),'tier'] = 'low'\n",
    "df.loc[(df.upperQuart == 1),'tier'] = 'top'\n",
    "df.loc[(df.bottomQuart == 0) & (df.upperQuart==0),'tier'] = 'middle'"
   ]
  },
  {
   "cell_type": "code",
   "execution_count": 176,
   "metadata": {},
   "outputs": [
    {
     "data": {
      "image/png": "[encoded data removed]",
      "text/plain": [
       "<Figure size 936x720 with 1 Axes>"
      ]
     },
     "metadata": {
      "needs_background": "light"
     },
     "output_type": "display_data"
    }
   ],
   "source": [
    "growths = df.groupby(['tier','year']).rrentChange.mean().unstack(level=0)\n",
    "growths.plot(figsize = (13,10),linewidth=4,cmap='prism')\n",
    "plt.title(\"Real bi-annual US rent growth rates by market tier\", fontsize=22)\n",
    "plt.ylabel(\"real bi-annual growth rate\",fontsize=18)\n",
    "plt.xlabel('year', fontsize=18)\n",
    "plt.legend(title='market tier',title_fontsize=18, fontsize=12)\n",
    "plt.savefig(\"/\".join([data_path, 'rrentChange.png']), bbox_inches='tight',pad_inches=0)"
   ]
  },
  {
   "cell_type": "code",
   "execution_count": 185,
   "metadata": {},
   "outputs": [
    {
     "data": {
      "text/html": [
       "<div>\n",
       "<style scoped>\n",
       "    .dataframe tbody tr th:only-of-type {\n",
       "        vertical-align: middle;\n",
       "    }\n",
       "\n",
       "    .dataframe tbody tr th {\n",
       "        vertical-align: top;\n",
       "    }\n",
       "\n",
       "    .dataframe thead th {\n",
       "        text-align: right;\n",
       "    }\n",
       "</style>\n",
       "<table border=\"1\" class=\"dataframe\">\n",
       "  <thead>\n",
       "    <tr style=\"text-align: right;\">\n",
       "      <th>tier</th>\n",
       "      <th>low</th>\n",
       "      <th>middle</th>\n",
       "      <th>top</th>\n",
       "      <th>total</th>\n",
       "    </tr>\n",
       "    <tr>\n",
       "      <th>year</th>\n",
       "      <th></th>\n",
       "      <th></th>\n",
       "      <th></th>\n",
       "      <th></th>\n",
       "    </tr>\n",
       "  </thead>\n",
       "  <tbody>\n",
       "    <tr>\n",
       "      <th>1985</th>\n",
       "      <td>0.26</td>\n",
       "      <td>0.49</td>\n",
       "      <td>0.25</td>\n",
       "      <td>1.0</td>\n",
       "    </tr>\n",
       "    <tr>\n",
       "      <th>1987</th>\n",
       "      <td>0.24</td>\n",
       "      <td>0.50</td>\n",
       "      <td>0.26</td>\n",
       "      <td>1.0</td>\n",
       "    </tr>\n",
       "    <tr>\n",
       "      <th>1989</th>\n",
       "      <td>0.22</td>\n",
       "      <td>0.49</td>\n",
       "      <td>0.28</td>\n",
       "      <td>1.0</td>\n",
       "    </tr>\n",
       "    <tr>\n",
       "      <th>1991</th>\n",
       "      <td>0.22</td>\n",
       "      <td>0.49</td>\n",
       "      <td>0.29</td>\n",
       "      <td>1.0</td>\n",
       "    </tr>\n",
       "    <tr>\n",
       "      <th>1993</th>\n",
       "      <td>0.22</td>\n",
       "      <td>0.49</td>\n",
       "      <td>0.29</td>\n",
       "      <td>1.0</td>\n",
       "    </tr>\n",
       "    <tr>\n",
       "      <th>1995</th>\n",
       "      <td>0.23</td>\n",
       "      <td>0.49</td>\n",
       "      <td>0.29</td>\n",
       "      <td>1.0</td>\n",
       "    </tr>\n",
       "    <tr>\n",
       "      <th>1997</th>\n",
       "      <td>0.21</td>\n",
       "      <td>0.48</td>\n",
       "      <td>0.30</td>\n",
       "      <td>1.0</td>\n",
       "    </tr>\n",
       "    <tr>\n",
       "      <th>1999</th>\n",
       "      <td>0.22</td>\n",
       "      <td>0.49</td>\n",
       "      <td>0.30</td>\n",
       "      <td>1.0</td>\n",
       "    </tr>\n",
       "    <tr>\n",
       "      <th>2001</th>\n",
       "      <td>0.20</td>\n",
       "      <td>0.49</td>\n",
       "      <td>0.31</td>\n",
       "      <td>1.0</td>\n",
       "    </tr>\n",
       "    <tr>\n",
       "      <th>2003</th>\n",
       "      <td>0.21</td>\n",
       "      <td>0.49</td>\n",
       "      <td>0.30</td>\n",
       "      <td>1.0</td>\n",
       "    </tr>\n",
       "    <tr>\n",
       "      <th>2005</th>\n",
       "      <td>0.20</td>\n",
       "      <td>0.48</td>\n",
       "      <td>0.32</td>\n",
       "      <td>1.0</td>\n",
       "    </tr>\n",
       "    <tr>\n",
       "      <th>2007</th>\n",
       "      <td>0.20</td>\n",
       "      <td>0.47</td>\n",
       "      <td>0.33</td>\n",
       "      <td>1.0</td>\n",
       "    </tr>\n",
       "    <tr>\n",
       "      <th>2009</th>\n",
       "      <td>0.19</td>\n",
       "      <td>0.47</td>\n",
       "      <td>0.34</td>\n",
       "      <td>1.0</td>\n",
       "    </tr>\n",
       "    <tr>\n",
       "      <th>2011</th>\n",
       "      <td>0.19</td>\n",
       "      <td>0.46</td>\n",
       "      <td>0.34</td>\n",
       "      <td>1.0</td>\n",
       "    </tr>\n",
       "  </tbody>\n",
       "</table>\n",
       "</div>"
      ],
      "text/plain": [
       "tier   low  middle   top  total\n",
       "year                           \n",
       "1985  0.26    0.49  0.25    1.0\n",
       "1987  0.24    0.50  0.26    1.0\n",
       "1989  0.22    0.49  0.28    1.0\n",
       "1991  0.22    0.49  0.29    1.0\n",
       "1993  0.22    0.49  0.29    1.0\n",
       "1995  0.23    0.49  0.29    1.0\n",
       "1997  0.21    0.48  0.30    1.0\n",
       "1999  0.22    0.49  0.30    1.0\n",
       "2001  0.20    0.49  0.31    1.0\n",
       "2003  0.21    0.49  0.30    1.0\n",
       "2005  0.20    0.48  0.32    1.0\n",
       "2007  0.20    0.47  0.33    1.0\n",
       "2009  0.19    0.47  0.34    1.0\n",
       "2011  0.19    0.46  0.34    1.0"
      ]
     },
     "execution_count": 185,
     "metadata": {},
     "output_type": "execute_result"
    }
   ],
   "source": [
    "tierCounts = df.groupby(['tier','year']).rrent.count().unstack(level=0)\n",
    "tierCounts.loc[:,'total'] = tierCounts.sum(axis=1)\n",
    "np.divide(tierCounts, tierCounts.total.values.reshape(14,1)).round(2)"
   ]
  },
  {
   "cell_type": "markdown",
   "metadata": {},
   "source": [
    "# Run Models"
   ]
  },
  {
   "cell_type": "code",
   "execution_count": 186,
   "metadata": {},
   "outputs": [],
   "source": [
    "fitDict = {}\n",
    "fitDict['topHalf'] = runRegression('rrentChange','topHalf+C(smsa)+C(samehh)',df.loc[df.year>1985])\n",
    "fitDict['yearFE'] = runRegression('rrentChange','topHalf+C(smsa)+C(year)+C(samehh)',df.loc[df.year>1985])\n",
    "fitDict['csi'] = runRegression('rrentChange','topHalf+C(smsa)+C(samehh)+np.log(csi)',df.loc[df.year>1985])\n",
    "fitDict['upperQuart'] = runRegression('rrentChange','bottomQuart+upperQuart+C(smsa)+C(year)+C(samehh)',df.loc[df.year>1985])\n",
    "fitDict['bottomQuart'] = runRegression('rrentChange','bottomQuart+C(smsa)+C(year)+C(samehh)',df.loc[df.year>1985])\n",
    "fitDict['PTIupperQuart'] = runRegression('rrentChange','C(smsa)+pti_top+C(samehh)',df.loc[(df.year>1985) & (df.upperQuart==1)])\n",
    "fitDict['PTIbottomQuart'] = runRegression('rrentChange','C(smsa)+pti_top+C(samehh)',df.loc[(df.year>1985) & (df.bottomQuart==1)])\n",
    "fitDict['knownSMSA'] = runRegression('rrentChange','upperQuart+C(smsa)+C(year)+C(samehh)',df.loc[(df.year>1985) & (df.smsa!=9999)])\n",
    "fitDict['knownSMSA2'] = runRegression('rrentChange','bottomQuart+upperQuart+C(smsa)+C(year)+C(samehh)',df.loc[(df.year>1985) & (df.smsa!=9999)])"
   ]
  },
  {
   "cell_type": "code",
   "execution_count": 187,
   "metadata": {},
   "outputs": [
    {
     "data": {
      "text/plain": [
       "Index(['C(samehh)[T.1.0]', 'Intercept', 'R^2 adj', 'bottomQuart', 'condNum',\n",
       "       'nObs', 'np.log(csi)', 'pti_top', 'topHalf', 'upperQuart'],\n",
       "      dtype='object')"
      ]
     },
     "execution_count": 187,
     "metadata": {},
     "output_type": "execute_result"
    }
   ],
   "source": [
    "outTable = extractResults(['topHalf','upperQuart','bottomQuart','Intercept','C(samehh)[T.1.0]','np.log(csi)','pti_top'],fitDict)\n",
    "outTable.index"
   ]
  },
  {
   "cell_type": "code",
   "execution_count": 190,
   "metadata": {},
   "outputs": [
    {
     "data": {
      "text/html": [
       "<div>\n",
       "<style scoped>\n",
       "    .dataframe tbody tr th:only-of-type {\n",
       "        vertical-align: middle;\n",
       "    }\n",
       "\n",
       "    .dataframe tbody tr th {\n",
       "        vertical-align: top;\n",
       "    }\n",
       "\n",
       "    .dataframe thead th {\n",
       "        text-align: right;\n",
       "    }\n",
       "</style>\n",
       "<table border=\"1\" class=\"dataframe\">\n",
       "  <thead>\n",
       "    <tr style=\"text-align: right;\">\n",
       "      <th></th>\n",
       "      <th>rent change</th>\n",
       "      <th>high-tier rent change</th>\n",
       "    </tr>\n",
       "  </thead>\n",
       "  <tbody>\n",
       "    <tr>\n",
       "      <th>Intercept</th>\n",
       "      <td>0.046 (0.050)</td>\n",
       "      <td>-0.027 (0.444)</td>\n",
       "    </tr>\n",
       "    <tr>\n",
       "      <th>higher-tier</th>\n",
       "      <td>-0.026 (0.000)</td>\n",
       "      <td></td>\n",
       "    </tr>\n",
       "    <tr>\n",
       "      <th>low-tier</th>\n",
       "      <td>0.080 (0.000)</td>\n",
       "      <td></td>\n",
       "    </tr>\n",
       "    <tr>\n",
       "      <th>pti</th>\n",
       "      <td></td>\n",
       "      <td>0.002 (0.035)</td>\n",
       "    </tr>\n",
       "    <tr>\n",
       "      <th>same HH</th>\n",
       "      <td>-0.027 (0.000)</td>\n",
       "      <td>-0.006 (0.022)</td>\n",
       "    </tr>\n",
       "    <tr>\n",
       "      <th>nObs</th>\n",
       "      <td>145237</td>\n",
       "      <td>37118</td>\n",
       "    </tr>\n",
       "    <tr>\n",
       "      <th>R^2 adj</th>\n",
       "      <td>0.02</td>\n",
       "      <td>0</td>\n",
       "    </tr>\n",
       "    <tr>\n",
       "      <th>condNum</th>\n",
       "      <td>435</td>\n",
       "      <td>1739</td>\n",
       "    </tr>\n",
       "  </tbody>\n",
       "</table>\n",
       "</div>"
      ],
      "text/plain": [
       "                rent change high-tier rent change\n",
       "Intercept     0.046 (0.050)        -0.027 (0.444)\n",
       "higher-tier  -0.026 (0.000)                      \n",
       "low-tier      0.080 (0.000)                      \n",
       "pti                                 0.002 (0.035)\n",
       "same HH      -0.027 (0.000)        -0.006 (0.022)\n",
       "nObs                 145237                 37118\n",
       "R^2 adj                0.02                     0\n",
       "condNum                 435                  1739"
      ]
     },
     "execution_count": 190,
     "metadata": {},
     "output_type": "execute_result"
    }
   ],
   "source": [
    "# Blog version\n",
    "\n",
    "cols = ['upperQuart','PTIupperQuart']\n",
    "coeffOrder = ['Intercept','upperQuart','bottomQuart','pti_top','C(samehh)[T.1.0]','nObs','R^2 adj','condNum']\n",
    "blogT = outTable.loc[coeffOrder,cols].rename(columns = {'upperQuart':'rent change','PTIupperQuart':'high-tier rent change'})\n",
    "blogT.rename({'upperQuart':'higher-tier','bottomQuart':'low-tier','pti_top':'pti','C(samehh)[T.1.0]':'same HH'})"
   ]
  },
  {
   "cell_type": "code",
   "execution_count": 189,
   "metadata": {
    "scrolled": true
   },
   "outputs": [
    {
     "data": {
      "text/html": [
       "<div>\n",
       "<style scoped>\n",
       "    .dataframe tbody tr th:only-of-type {\n",
       "        vertical-align: middle;\n",
       "    }\n",
       "\n",
       "    .dataframe tbody tr th {\n",
       "        vertical-align: top;\n",
       "    }\n",
       "\n",
       "    .dataframe thead th {\n",
       "        text-align: right;\n",
       "    }\n",
       "</style>\n",
       "<table border=\"1\" class=\"dataframe\">\n",
       "  <thead>\n",
       "    <tr style=\"text-align: right;\">\n",
       "      <th></th>\n",
       "      <th>topHalf</th>\n",
       "      <th>yearFE</th>\n",
       "      <th>csi</th>\n",
       "      <th>upperQuart</th>\n",
       "      <th>bottomQuart</th>\n",
       "      <th>PTIupperQuart</th>\n",
       "      <th>PTIbottomQuart</th>\n",
       "      <th>knownSMSA</th>\n",
       "      <th>knownSMSA2</th>\n",
       "    </tr>\n",
       "  </thead>\n",
       "  <tbody>\n",
       "    <tr>\n",
       "      <th>Intercept</th>\n",
       "      <td>0.075 (0.001)</td>\n",
       "      <td>0.090 (0.000)</td>\n",
       "      <td>0.142 (0.000)</td>\n",
       "      <td>0.046 (0.050)</td>\n",
       "      <td>0.037 (0.114)</td>\n",
       "      <td>-0.027 (0.444)</td>\n",
       "      <td>0.231 (0.001)</td>\n",
       "      <td>0.080 (0.001)</td>\n",
       "      <td>0.055 (0.017)</td>\n",
       "    </tr>\n",
       "    <tr>\n",
       "      <th>topHalf</th>\n",
       "      <td>-0.062 (0.000)</td>\n",
       "      <td>-0.061 (0.000)</td>\n",
       "      <td>-0.061 (0.000)</td>\n",
       "      <td></td>\n",
       "      <td></td>\n",
       "      <td></td>\n",
       "      <td></td>\n",
       "      <td></td>\n",
       "      <td></td>\n",
       "    </tr>\n",
       "    <tr>\n",
       "      <th>upperQuart</th>\n",
       "      <td></td>\n",
       "      <td></td>\n",
       "      <td></td>\n",
       "      <td>-0.026 (0.000)</td>\n",
       "      <td></td>\n",
       "      <td></td>\n",
       "      <td></td>\n",
       "      <td>-0.047 (0.000)</td>\n",
       "      <td>-0.024 (0.000)</td>\n",
       "    </tr>\n",
       "    <tr>\n",
       "      <th>bottomQuart</th>\n",
       "      <td></td>\n",
       "      <td></td>\n",
       "      <td></td>\n",
       "      <td>0.080 (0.000)</td>\n",
       "      <td>0.089 (0.000)</td>\n",
       "      <td></td>\n",
       "      <td></td>\n",
       "      <td></td>\n",
       "      <td>0.076 (0.000)</td>\n",
       "    </tr>\n",
       "    <tr>\n",
       "      <th>C(samehh)[T.1.0]</th>\n",
       "      <td>-0.019 (0.000)</td>\n",
       "      <td>-0.024 (0.000)</td>\n",
       "      <td>-0.019 (0.000)</td>\n",
       "      <td>-0.027 (0.000)</td>\n",
       "      <td>-0.027 (0.000)</td>\n",
       "      <td>-0.006 (0.022)</td>\n",
       "      <td>-0.041 (0.000)</td>\n",
       "      <td>-0.024 (0.000)</td>\n",
       "      <td>-0.029 (0.000)</td>\n",
       "    </tr>\n",
       "    <tr>\n",
       "      <th>np.log(csi)</th>\n",
       "      <td></td>\n",
       "      <td></td>\n",
       "      <td>-0.014 (0.000)</td>\n",
       "      <td></td>\n",
       "      <td></td>\n",
       "      <td></td>\n",
       "      <td></td>\n",
       "      <td></td>\n",
       "      <td></td>\n",
       "    </tr>\n",
       "    <tr>\n",
       "      <th>pti_top</th>\n",
       "      <td></td>\n",
       "      <td></td>\n",
       "      <td></td>\n",
       "      <td></td>\n",
       "      <td></td>\n",
       "      <td>0.002 (0.035)</td>\n",
       "      <td>-0.006 (0.002)</td>\n",
       "      <td></td>\n",
       "      <td></td>\n",
       "    </tr>\n",
       "    <tr>\n",
       "      <th>nObs</th>\n",
       "      <td>145237</td>\n",
       "      <td>145237</td>\n",
       "      <td>145237</td>\n",
       "      <td>145237</td>\n",
       "      <td>145237</td>\n",
       "      <td>37118</td>\n",
       "      <td>26271</td>\n",
       "      <td>90062</td>\n",
       "      <td>90062</td>\n",
       "    </tr>\n",
       "    <tr>\n",
       "      <th>R^2 adj</th>\n",
       "      <td>0.01</td>\n",
       "      <td>0.01</td>\n",
       "      <td>0.01</td>\n",
       "      <td>0.02</td>\n",
       "      <td>0.02</td>\n",
       "      <td>0</td>\n",
       "      <td>0</td>\n",
       "      <td>0.01</td>\n",
       "      <td>0.02</td>\n",
       "    </tr>\n",
       "    <tr>\n",
       "      <th>condNum</th>\n",
       "      <td>454</td>\n",
       "      <td>462</td>\n",
       "      <td>1631</td>\n",
       "      <td>435</td>\n",
       "      <td>423</td>\n",
       "      <td>1739</td>\n",
       "      <td>1589</td>\n",
       "      <td>324</td>\n",
       "      <td>329</td>\n",
       "    </tr>\n",
       "  </tbody>\n",
       "</table>\n",
       "</div>"
      ],
      "text/plain": [
       "                         topHalf          yearFE             csi  \\\n",
       "Intercept          0.075 (0.001)   0.090 (0.000)   0.142 (0.000)   \n",
       "topHalf           -0.062 (0.000)  -0.061 (0.000)  -0.061 (0.000)   \n",
       "upperQuart                                                         \n",
       "bottomQuart                                                        \n",
       "C(samehh)[T.1.0]  -0.019 (0.000)  -0.024 (0.000)  -0.019 (0.000)   \n",
       "np.log(csi)                                       -0.014 (0.000)   \n",
       "pti_top                                                            \n",
       "nObs                      145237          145237          145237   \n",
       "R^2 adj                     0.01            0.01            0.01   \n",
       "condNum                      454             462            1631   \n",
       "\n",
       "                      upperQuart     bottomQuart   PTIupperQuart  \\\n",
       "Intercept          0.046 (0.050)   0.037 (0.114)  -0.027 (0.444)   \n",
       "topHalf                                                            \n",
       "upperQuart        -0.026 (0.000)                                   \n",
       "bottomQuart        0.080 (0.000)   0.089 (0.000)                   \n",
       "C(samehh)[T.1.0]  -0.027 (0.000)  -0.027 (0.000)  -0.006 (0.022)   \n",
       "np.log(csi)                                                        \n",
       "pti_top                                            0.002 (0.035)   \n",
       "nObs                      145237          145237           37118   \n",
       "R^2 adj                     0.02            0.02               0   \n",
       "condNum                      435             423            1739   \n",
       "\n",
       "                  PTIbottomQuart       knownSMSA      knownSMSA2  \n",
       "Intercept          0.231 (0.001)   0.080 (0.001)   0.055 (0.017)  \n",
       "topHalf                                                           \n",
       "upperQuart                        -0.047 (0.000)  -0.024 (0.000)  \n",
       "bottomQuart                                        0.076 (0.000)  \n",
       "C(samehh)[T.1.0]  -0.041 (0.000)  -0.024 (0.000)  -0.029 (0.000)  \n",
       "np.log(csi)                                                       \n",
       "pti_top           -0.006 (0.002)                                  \n",
       "nObs                       26271           90062           90062  \n",
       "R^2 adj                        0            0.01            0.02  \n",
       "condNum                     1589             324             329  "
      ]
     },
     "execution_count": 189,
     "metadata": {},
     "output_type": "execute_result"
    }
   ],
   "source": [
    "outTable.loc[['Intercept','topHalf','upperQuart','bottomQuart','C(samehh)[T.1.0]','np.log(csi)','pti_top','nObs','R^2 adj','condNum']]"
   ]
  },
  {
   "cell_type": "code",
   "execution_count": null,
   "metadata": {},
   "outputs": [],
   "source": []
  }
 ],
 "metadata": {
  "kernelspec": {
   "display_name": "Python 3",
   "language": "python",
   "name": "python3"
  },
  "language_info": {
   "codemirror_mode": {
    "name": "ipython",
    "version": 3
   },
   "file_extension": ".py",
   "mimetype": "text/x-python",
   "name": "python",
   "nbconvert_exporter": "python",
   "pygments_lexer": "ipython3",
   "version": "3.7.3"
  }
 },
 "nbformat": 4,
 "nbformat_minor": 2
}
